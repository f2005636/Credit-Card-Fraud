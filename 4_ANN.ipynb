{
 "cells": [
  {
   "cell_type": "markdown",
   "metadata": {},
   "source": [
    "# ANN"
   ]
  },
  {
   "cell_type": "code",
   "execution_count": 1,
   "metadata": {},
   "outputs": [
    {
     "name": "stderr",
     "output_type": "stream",
     "text": [
      "C:\\Users\\admin\\Anaconda3\\envs\\tensorflow\\lib\\site-packages\\h5py\\__init__.py:36: FutureWarning: Conversion of the second argument of issubdtype from `float` to `np.floating` is deprecated. In future, it will be treated as `np.float64 == np.dtype(float).type`.\n",
      "  from ._conv import register_converters as _register_converters\n",
      "Using TensorFlow backend.\n"
     ]
    }
   ],
   "source": [
    "import numpy as np\n",
    "import pandas as pd\n",
    "import matplotlib.pyplot as plt\n",
    "%matplotlib inline \n",
    "\n",
    "import keras\n",
    "from keras.models import Sequential \n",
    "from keras.layers import Dense\n",
    "from sklearn.metrics import confusion_matrix"
   ]
  },
  {
   "cell_type": "markdown",
   "metadata": {},
   "source": [
    "** Read Data **"
   ]
  },
  {
   "cell_type": "code",
   "execution_count": 2,
   "metadata": {},
   "outputs": [],
   "source": [
    "np.random.seed(101)\n",
    "train = pd.read_csv('train.csv')\n",
    "test = pd.read_csv('test.csv')"
   ]
  },
  {
   "cell_type": "markdown",
   "metadata": {},
   "source": [
    "** Split the data **"
   ]
  },
  {
   "cell_type": "code",
   "execution_count": 3,
   "metadata": {},
   "outputs": [],
   "source": [
    "x_train = train.iloc[:,1:88].values\n",
    "y_train = train.iloc[:,0].values\n",
    "x_test = test.iloc[:,0:87].values\n",
    "y_test = test.iloc[:,87].values"
   ]
  },
  {
   "cell_type": "markdown",
   "metadata": {},
   "source": [
    "** ANN **"
   ]
  },
  {
   "cell_type": "code",
   "execution_count": 4,
   "metadata": {},
   "outputs": [
    {
     "name": "stderr",
     "output_type": "stream",
     "text": [
      "C:\\Users\\admin\\Anaconda3\\envs\\tensorflow\\lib\\site-packages\\ipykernel_launcher.py:2: UserWarning: Update your `Dense` call to the Keras 2 API: `Dense(units=58, kernel_initializer=\"uniform\", activation=\"relu\", input_dim=87)`\n",
      "  \n",
      "C:\\Users\\admin\\Anaconda3\\envs\\tensorflow\\lib\\site-packages\\ipykernel_launcher.py:3: UserWarning: Update your `Dense` call to the Keras 2 API: `Dense(units=29, kernel_initializer=\"uniform\", activation=\"relu\")`\n",
      "  This is separate from the ipykernel package so we can avoid doing imports until\n",
      "C:\\Users\\admin\\Anaconda3\\envs\\tensorflow\\lib\\site-packages\\ipykernel_launcher.py:4: UserWarning: Update your `Dense` call to the Keras 2 API: `Dense(units=1, kernel_initializer=\"uniform\", activation=\"sigmoid\")`\n",
      "  after removing the cwd from sys.path.\n"
     ]
    }
   ],
   "source": [
    "classifier = Sequential()\n",
    "classifier.add(Dense(output_dim = 58, init = 'uniform', activation = 'relu', input_dim = 87))\n",
    "classifier.add(Dense(output_dim = 29, init = 'uniform', activation = 'relu'))\n",
    "classifier.add(Dense(output_dim = 1, init = 'uniform', activation = 'sigmoid'))\n",
    "classifier.compile(optimizer='adam', loss='binary_crossentropy', metrics=['accuracy'])"
   ]
  },
  {
   "cell_type": "markdown",
   "metadata": {},
   "source": [
    "** Fitting the model **"
   ]
  },
  {
   "cell_type": "code",
   "execution_count": 5,
   "metadata": {},
   "outputs": [
    {
     "name": "stderr",
     "output_type": "stream",
     "text": [
      "C:\\Users\\admin\\Anaconda3\\envs\\tensorflow\\lib\\site-packages\\keras\\models.py:981: UserWarning: The `nb_epoch` argument in `fit` has been renamed `epochs`.\n",
      "  warnings.warn('The `nb_epoch` argument in `fit` '\n"
     ]
    },
    {
     "name": "stdout",
     "output_type": "stream",
     "text": [
      "Epoch 1/100\n",
      "7586/7586 [==============================] - 1s 89us/step - loss: 0.4424 - acc: 0.9433\n",
      "Epoch 2/100\n",
      "7586/7586 [==============================] - 0s 28us/step - loss: 0.0984 - acc: 0.9460\n",
      "Epoch 3/100\n",
      "7586/7586 [==============================] - 0s 33us/step - loss: 0.0694 - acc: 0.9502\n",
      "Epoch 4/100\n",
      "7586/7586 [==============================] - 0s 29us/step - loss: 0.0546 - acc: 0.9884\n",
      "Epoch 5/100\n",
      "7586/7586 [==============================] - 0s 29us/step - loss: 0.0410 - acc: 0.9924\n",
      "Epoch 6/100\n",
      "7586/7586 [==============================] - 0s 29us/step - loss: 0.0283 - acc: 0.9942\n",
      "Epoch 7/100\n",
      "7586/7586 [==============================] - 0s 31us/step - loss: 0.0195 - acc: 0.9955\n",
      "Epoch 8/100\n",
      "7586/7586 [==============================] - 0s 30us/step - loss: 0.0131 - acc: 0.9970\n",
      "Epoch 9/100\n",
      "7586/7586 [==============================] - 0s 29us/step - loss: 0.0092 - acc: 0.9974\n",
      "Epoch 10/100\n",
      "7586/7586 [==============================] - 0s 31us/step - loss: 0.0062 - acc: 0.9993\n",
      "Epoch 11/100\n",
      "7586/7586 [==============================] - 0s 28us/step - loss: 0.0041 - acc: 0.9996\n",
      "Epoch 12/100\n",
      "7586/7586 [==============================] - 0s 31us/step - loss: 0.0028 - acc: 0.9999\n",
      "Epoch 13/100\n",
      "7586/7586 [==============================] - 0s 30us/step - loss: 0.0022 - acc: 1.0000\n",
      "Epoch 14/100\n",
      "7586/7586 [==============================] - 0s 29us/step - loss: 0.0016 - acc: 1.0000\n",
      "Epoch 15/100\n",
      "7586/7586 [==============================] - 0s 31us/step - loss: 0.0012 - acc: 1.0000\n",
      "Epoch 16/100\n",
      "7586/7586 [==============================] - 0s 28us/step - loss: 9.7172e-04 - acc: 1.0000\n",
      "Epoch 17/100\n",
      "7586/7586 [==============================] - 0s 30us/step - loss: 7.8109e-04 - acc: 1.0000\n",
      "Epoch 18/100\n",
      "7586/7586 [==============================] - 0s 30us/step - loss: 6.5103e-04 - acc: 1.0000\n",
      "Epoch 19/100\n",
      "7586/7586 [==============================] - 0s 33us/step - loss: 5.4869e-04 - acc: 1.0000\n",
      "Epoch 20/100\n",
      "7586/7586 [==============================] - 0s 29us/step - loss: 4.6814e-04 - acc: 1.0000\n",
      "Epoch 21/100\n",
      "7586/7586 [==============================] - 0s 31us/step - loss: 4.0028e-04 - acc: 1.0000\n",
      "Epoch 22/100\n",
      "7586/7586 [==============================] - 0s 32us/step - loss: 3.4418e-04 - acc: 1.0000\n",
      "Epoch 23/100\n",
      "7586/7586 [==============================] - 0s 30us/step - loss: 2.9705e-04 - acc: 1.0000\n",
      "Epoch 24/100\n",
      "7586/7586 [==============================] - 0s 31us/step - loss: 2.5655e-04 - acc: 1.0000\n",
      "Epoch 25/100\n",
      "7586/7586 [==============================] - 0s 28us/step - loss: 2.2253e-04 - acc: 1.0000\n",
      "Epoch 26/100\n",
      "7586/7586 [==============================] - 0s 30us/step - loss: 1.9087e-04 - acc: 1.0000\n",
      "Epoch 27/100\n",
      "7586/7586 [==============================] - 0s 31us/step - loss: 1.6589e-04 - acc: 1.0000\n",
      "Epoch 28/100\n",
      "7586/7586 [==============================] - 0s 31us/step - loss: 1.4409e-04 - acc: 1.0000\n",
      "Epoch 29/100\n",
      "7586/7586 [==============================] - 0s 31us/step - loss: 1.2567e-04 - acc: 1.0000\n",
      "Epoch 30/100\n",
      "7586/7586 [==============================] - 0s 32us/step - loss: 1.0960e-04 - acc: 1.0000\n",
      "Epoch 31/100\n",
      "7586/7586 [==============================] - 0s 32us/step - loss: 9.6698e-05 - acc: 1.0000\n",
      "Epoch 32/100\n",
      "7586/7586 [==============================] - 0s 31us/step - loss: 8.5219e-05 - acc: 1.0000\n",
      "Epoch 33/100\n",
      "7586/7586 [==============================] - 0s 31us/step - loss: 7.5198e-05 - acc: 1.0000\n",
      "Epoch 34/100\n",
      "7586/7586 [==============================] - 0s 28us/step - loss: 6.6788e-05 - acc: 1.0000\n",
      "Epoch 35/100\n",
      "7586/7586 [==============================] - 0s 31us/step - loss: 5.9340e-05 - acc: 1.0000\n",
      "Epoch 36/100\n",
      "7586/7586 [==============================] - 0s 27us/step - loss: 5.3071e-05 - acc: 1.0000\n",
      "Epoch 37/100\n",
      "7586/7586 [==============================] - 0s 31us/step - loss: 4.7592e-05 - acc: 1.0000\n",
      "Epoch 38/100\n",
      "7586/7586 [==============================] - 0s 30us/step - loss: 4.2843e-05 - acc: 1.0000\n",
      "Epoch 39/100\n",
      "7586/7586 [==============================] - 0s 32us/step - loss: 3.8715e-05 - acc: 1.0000\n",
      "Epoch 40/100\n",
      "7586/7586 [==============================] - 0s 33us/step - loss: 3.4873e-05 - acc: 1.0000\n",
      "Epoch 41/100\n",
      "7586/7586 [==============================] - 0s 31us/step - loss: 3.1652e-05 - acc: 1.0000\n",
      "Epoch 42/100\n",
      "7586/7586 [==============================] - 0s 33us/step - loss: 2.8663e-05 - acc: 1.0000\n",
      "Epoch 43/100\n",
      "7586/7586 [==============================] - 0s 33us/step - loss: 2.6096e-05 - acc: 1.0000\n",
      "Epoch 44/100\n",
      "7586/7586 [==============================] - 0s 31us/step - loss: 2.3810e-05 - acc: 1.0000\n",
      "Epoch 45/100\n",
      "7586/7586 [==============================] - 0s 31us/step - loss: 2.1819e-05 - acc: 1.0000\n",
      "Epoch 46/100\n",
      "7586/7586 [==============================] - 0s 31us/step - loss: 2.0218e-05 - acc: 1.0000\n",
      "Epoch 47/100\n",
      "7586/7586 [==============================] - 0s 28us/step - loss: 1.8435e-05 - acc: 1.0000\n",
      "Epoch 48/100\n",
      "7586/7586 [==============================] - 0s 30us/step - loss: 1.6882e-05 - acc: 1.0000\n",
      "Epoch 49/100\n",
      "7586/7586 [==============================] - 0s 31us/step - loss: 1.5613e-05 - acc: 1.0000\n",
      "Epoch 50/100\n",
      "7586/7586 [==============================] - 0s 29us/step - loss: 1.4368e-05 - acc: 1.0000\n",
      "Epoch 51/100\n",
      "7586/7586 [==============================] - 0s 28us/step - loss: 1.3318e-05 - acc: 1.0000\n",
      "Epoch 52/100\n",
      "7586/7586 [==============================] - 0s 31us/step - loss: 1.2347e-05 - acc: 1.0000\n",
      "Epoch 53/100\n",
      "7586/7586 [==============================] - 0s 31us/step - loss: 1.1468e-05 - acc: 1.0000\n",
      "Epoch 54/100\n",
      "7586/7586 [==============================] - 0s 33us/step - loss: 1.0652e-05 - acc: 1.0000\n",
      "Epoch 55/100\n",
      "7586/7586 [==============================] - 0s 31us/step - loss: 9.9155e-06 - acc: 1.0000\n",
      "Epoch 56/100\n",
      "7586/7586 [==============================] - 0s 32us/step - loss: 9.2249e-06 - acc: 1.0000\n",
      "Epoch 57/100\n",
      "7586/7586 [==============================] - 0s 33us/step - loss: 8.6234e-06 - acc: 1.0000\n",
      "Epoch 58/100\n",
      "7586/7586 [==============================] - 0s 32us/step - loss: 8.0161e-06 - acc: 1.0000\n",
      "Epoch 59/100\n",
      "7586/7586 [==============================] - 0s 32us/step - loss: 7.4943e-06 - acc: 1.0000\n",
      "Epoch 60/100\n",
      "7586/7586 [==============================] - 0s 31us/step - loss: 7.0031e-06 - acc: 1.0000\n",
      "Epoch 61/100\n",
      "7586/7586 [==============================] - 0s 32us/step - loss: 6.5379e-06 - acc: 1.0000\n",
      "Epoch 62/100\n",
      "7586/7586 [==============================] - 0s 30us/step - loss: 6.1225e-06 - acc: 1.0000\n",
      "Epoch 63/100\n",
      "7586/7586 [==============================] - 0s 31us/step - loss: 5.7404e-06 - acc: 1.0000\n",
      "Epoch 64/100\n",
      "7586/7586 [==============================] - 0s 32us/step - loss: 5.3739e-06 - acc: 1.0000\n",
      "Epoch 65/100\n",
      "7586/7586 [==============================] - 0s 31us/step - loss: 5.0461e-06 - acc: 1.0000\n",
      "Epoch 66/100\n",
      "7586/7586 [==============================] - 0s 33us/step - loss: 4.7369e-06 - acc: 1.0000\n",
      "Epoch 67/100\n",
      "7586/7586 [==============================] - 0s 31us/step - loss: 4.4478e-06 - acc: 1.0000: 0s - loss: 4.3708e-06 - acc: 1.\n",
      "Epoch 68/100\n",
      "7586/7586 [==============================] - 0s 32us/step - loss: 4.1911e-06 - acc: 1.0000\n",
      "Epoch 69/100\n",
      "7586/7586 [==============================] - 0s 32us/step - loss: 3.9277e-06 - acc: 1.0000\n",
      "Epoch 70/100\n",
      "7586/7586 [==============================] - 0s 32us/step - loss: 3.7108e-06 - acc: 1.0000\n",
      "Epoch 71/100\n",
      "7586/7586 [==============================] - 0s 33us/step - loss: 3.4879e-06 - acc: 1.0000\n",
      "Epoch 72/100\n",
      "7586/7586 [==============================] - 0s 29us/step - loss: 3.2921e-06 - acc: 1.0000\n",
      "Epoch 73/100\n",
      "7586/7586 [==============================] - 0s 27us/step - loss: 3.0960e-06 - acc: 1.0000\n",
      "Epoch 74/100\n",
      "7586/7586 [==============================] - 0s 33us/step - loss: 2.9290e-06 - acc: 1.0000\n",
      "Epoch 75/100\n",
      "7586/7586 [==============================] - 0s 32us/step - loss: 2.7557e-06 - acc: 1.0000\n",
      "Epoch 76/100\n",
      "7586/7586 [==============================] - 0s 32us/step - loss: 2.6030e-06 - acc: 1.0000\n",
      "Epoch 77/100\n",
      "7586/7586 [==============================] - 0s 31us/step - loss: 2.4650e-06 - acc: 1.0000\n",
      "Epoch 78/100\n",
      "7586/7586 [==============================] - 0s 31us/step - loss: 2.3269e-06 - acc: 1.0000\n",
      "Epoch 79/100\n",
      "7586/7586 [==============================] - 0s 29us/step - loss: 2.2006e-06 - acc: 1.0000\n",
      "Epoch 80/100\n"
     ]
    },
    {
     "name": "stdout",
     "output_type": "stream",
     "text": [
      "7586/7586 [==============================] - 0s 28us/step - loss: 2.0843e-06 - acc: 1.0000\n",
      "Epoch 81/100\n",
      "7586/7586 [==============================] - 0s 31us/step - loss: 1.9718e-06 - acc: 1.0000\n",
      "Epoch 82/100\n",
      "7586/7586 [==============================] - 0s 29us/step - loss: 1.8673e-06 - acc: 1.0000\n",
      "Epoch 83/100\n",
      "7586/7586 [==============================] - 0s 30us/step - loss: 1.7697e-06 - acc: 1.0000\n",
      "Epoch 84/100\n",
      "7586/7586 [==============================] - 0s 27us/step - loss: 1.6775e-06 - acc: 1.0000\n",
      "Epoch 85/100\n",
      "7586/7586 [==============================] - 0s 33us/step - loss: 1.5907e-06 - acc: 1.0000\n",
      "Epoch 86/100\n",
      "7586/7586 [==============================] - 0s 28us/step - loss: 1.5081e-06 - acc: 1.0000\n",
      "Epoch 87/100\n",
      "7586/7586 [==============================] - 0s 29us/step - loss: 1.4329e-06 - acc: 1.0000\n",
      "Epoch 88/100\n",
      "7586/7586 [==============================] - 0s 28us/step - loss: 1.3615e-06 - acc: 1.0000\n",
      "Epoch 89/100\n",
      "7586/7586 [==============================] - 0s 29us/step - loss: 1.2899e-06 - acc: 1.0000\n",
      "Epoch 90/100\n",
      "7586/7586 [==============================] - 0s 31us/step - loss: 1.2299e-06 - acc: 1.0000\n",
      "Epoch 91/100\n",
      "7586/7586 [==============================] - 0s 28us/step - loss: 1.1671e-06 - acc: 1.0000\n",
      "Epoch 92/100\n",
      "7586/7586 [==============================] - 0s 31us/step - loss: 1.1110e-06 - acc: 1.0000\n",
      "Epoch 93/100\n",
      "7586/7586 [==============================] - 0s 28us/step - loss: 1.0561e-06 - acc: 1.0000\n",
      "Epoch 94/100\n",
      "7586/7586 [==============================] - 0s 30us/step - loss: 1.0060e-06 - acc: 1.0000\n",
      "Epoch 95/100\n",
      "7586/7586 [==============================] - 0s 29us/step - loss: 9.5734e-07 - acc: 1.0000\n",
      "Epoch 96/100\n",
      "7586/7586 [==============================] - 0s 28us/step - loss: 9.1246e-07 - acc: 1.0000\n",
      "Epoch 97/100\n",
      "7586/7586 [==============================] - 0s 31us/step - loss: 8.7077e-07 - acc: 1.0000\n",
      "Epoch 98/100\n",
      "7586/7586 [==============================] - 0s 26us/step - loss: 8.2817e-07 - acc: 1.0000\n",
      "Epoch 99/100\n",
      "7586/7586 [==============================] - 0s 29us/step - loss: 7.8974e-07 - acc: 1.0000\n",
      "Epoch 100/100\n",
      "7586/7586 [==============================] - 0s 26us/step - loss: 7.5625e-07 - acc: 1.0000\n"
     ]
    },
    {
     "data": {
      "text/plain": [
       "<keras.callbacks.History at 0x2a8c2b84550>"
      ]
     },
     "execution_count": 5,
     "metadata": {},
     "output_type": "execute_result"
    }
   ],
   "source": [
    "classifier.fit(x_train, y_train, batch_size=91, nb_epoch= 100)"
   ]
  },
  {
   "cell_type": "markdown",
   "metadata": {},
   "source": [
    "** Predict Test **"
   ]
  },
  {
   "cell_type": "code",
   "execution_count": 6,
   "metadata": {},
   "outputs": [],
   "source": [
    "y_pred = classifier.predict(x_test)\n",
    "y_pred = (y_pred > 0.5)"
   ]
  },
  {
   "cell_type": "markdown",
   "metadata": {},
   "source": [
    "** Evaluate the preformance **"
   ]
  },
  {
   "cell_type": "code",
   "execution_count": 7,
   "metadata": {},
   "outputs": [
    {
     "data": {
      "text/plain": [
       "array([[1433,    2],\n",
       "       [  13,   69]], dtype=int64)"
      ]
     },
     "execution_count": 7,
     "metadata": {},
     "output_type": "execute_result"
    }
   ],
   "source": [
    "cm = confusion_matrix(y_true=y_test, y_pred=y_pred)\n",
    "cm"
   ]
  }
 ],
 "metadata": {
  "kernelspec": {
   "display_name": "Python 3",
   "language": "python",
   "name": "python3"
  },
  "language_info": {
   "codemirror_mode": {
    "name": "ipython",
    "version": 3
   },
   "file_extension": ".py",
   "mimetype": "text/x-python",
   "name": "python",
   "nbconvert_exporter": "python",
   "pygments_lexer": "ipython3",
   "version": "3.5.5"
  }
 },
 "nbformat": 4,
 "nbformat_minor": 2
}
